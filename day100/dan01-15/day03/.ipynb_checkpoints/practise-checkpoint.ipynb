{
 "cells": [
  {
   "cell_type": "code",
   "execution_count": 2,
   "metadata": {},
   "outputs": [
    {
     "name": "stdout",
     "output_type": "stream",
     "text": [
      "请输入长度: 144\n",
      "请输入单位: cm\n",
      "144.000000厘米 = 56.692913英寸\n"
     ]
    }
   ],
   "source": [
    "# 英制单位英寸和公制单位厘米互换\n",
    "value = float(input('请输入长度: '))\n",
    "unit = input('请输入单位: ')\n",
    "if unit == 'in' or unit == '英寸':\n",
    "    print('%f英寸 = %f厘米' % (value,value * 2.54))\n",
    "elif unit == 'cm' or unit =='厘米':\n",
    "    print('%f厘米 = %f英寸' % (value,value / 2.54))\n",
    "else:\n",
    "    print('请输入有效的单位')"
   ]
  },
  {
   "cell_type": "code",
   "execution_count": 4,
   "metadata": {},
   "outputs": [
    {
     "name": "stdout",
     "output_type": "stream",
     "text": [
      "请输入成绩: 46\n",
      "E\n"
     ]
    }
   ],
   "source": [
    "'''\n",
    "\n",
    "百分制成绩转等级制成绩\n",
    "90分以上 \t \t--> A\n",
    "80分~89分 \t--> B\n",
    "70分~79分\t--> C\n",
    "60分~69分\t--> D\n",
    "60分以下\t\t--> E\n",
    "'''\n",
    "\n",
    "score = float(input('请输入成绩: '))\n",
    "if score >= 90:\n",
    "    grade = 'A'\n",
    "elif score >= 80:\n",
    "    grade = 'B'\n",
    "elif score >= 70:\n",
    "    grade = 'C'\n",
    "elif score >= 60:\n",
    "    grade = 'D'\n",
    "else:\n",
    "    grade = 'E'\n",
    "print(grade)\n"
   ]
  },
  {
   "cell_type": "code",
   "execution_count": null,
   "metadata": {},
   "outputs": [],
   "source": []
  }
 ],
 "metadata": {
  "kernelspec": {
   "display_name": "Python 3",
   "language": "python",
   "name": "python3"
  },
  "language_info": {
   "codemirror_mode": {
    "name": "ipython",
    "version": 3
   },
   "file_extension": ".py",
   "mimetype": "text/x-python",
   "name": "python",
   "nbconvert_exporter": "python",
   "pygments_lexer": "ipython3",
   "version": "3.7.4"
  },
  "toc": {
   "base_numbering": 1,
   "nav_menu": {},
   "number_sections": true,
   "sideBar": true,
   "skip_h1_title": false,
   "title_cell": "Table of Contents",
   "title_sidebar": "Contents",
   "toc_cell": false,
   "toc_position": {},
   "toc_section_display": true,
   "toc_window_display": false
  }
 },
 "nbformat": 4,
 "nbformat_minor": 2
}
