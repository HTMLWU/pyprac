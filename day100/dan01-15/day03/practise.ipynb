{
 "cells": [
  {
   "cell_type": "code",
   "execution_count": 2,
   "metadata": {},
   "outputs": [
    {
     "name": "stdout",
     "output_type": "stream",
     "text": [
      "请输入长度: 144\n",
      "请输入单位: cm\n",
      "144.000000厘米 = 56.692913英寸\n"
     ]
    }
   ],
   "source": [
    "# 英制单位英寸和公制单位厘米互换\n",
    "value = float(input('请输入长度: '))\n",
    "unit = input('请输入单位: ')\n",
    "if unit == 'in' or unit == '英寸':\n",
    "    print('%f英寸 = %f厘米' % (value,value * 2.54))\n",
    "elif unit == 'cm' or unit =='厘米':\n",
    "    print('%f厘米 = %f英寸' % (value,value / 2.54))\n",
    "else:\n",
    "    print('请输入有效的单位')"
   ]
  },
  {
   "cell_type": "code",
   "execution_count": 4,
   "metadata": {},
   "outputs": [
    {
     "name": "stdout",
     "output_type": "stream",
     "text": [
      "请输入成绩: 46\n",
      "E\n"
     ]
    }
   ],
   "source": [
    "'''\n",
    "\n",
    "百分制成绩转等级制成绩\n",
    "90分以上 \t \t--> A\n",
    "80分~89分 \t--> B\n",
    "70分~79分\t--> C\n",
    "60分~69分\t--> D\n",
    "60分以下\t\t--> E\n",
    "'''\n",
    "\n",
    "score = float(input('请输入成绩: '))\n",
    "if score >= 90:\n",
    "    grade = 'A'\n",
    "elif score >= 80:\n",
    "    grade = 'B'\n",
    "elif score >= 70:\n",
    "    grade = 'C'\n",
    "elif score >= 60:\n",
    "    grade = 'D'\n",
    "else:\n",
    "    grade = 'E'\n",
    "print(grade)\n"
   ]
  },
  {
   "cell_type": "code",
   "execution_count": 2,
   "metadata": {},
   "outputs": [
    {
     "name": "stdout",
     "output_type": "stream",
     "text": [
      "x = 4\n",
      "f(4.00) 7.00\n"
     ]
    }
   ],
   "source": [
    "'''\n",
    "分段函数求值\n",
    "\t\t3x - 5\t(x > 1)\n",
    "f(x) =\tx + 2\t(-1 <= x <= 1)\n",
    "\t\t5x + 3\t(x < -1)\n",
    "'''\n",
    "x = float(input('x = '))\n",
    "if x>1:\n",
    "    y = 3 * x -5\n",
    "elif x>=-1:\n",
    "    y = x+2\n",
    "else:\n",
    "    y = 5*x+3\n",
    "print('f(%.2f) %.2f' %(x,y))"
   ]
  },
  {
   "cell_type": "code",
   "execution_count": 11,
   "metadata": {},
   "outputs": [
    {
     "name": "stdout",
     "output_type": "stream",
     "text": [
      "学狗叫\n"
     ]
    }
   ],
   "source": [
    "'''\n",
    "掷骰子决定做什么事情\n",
    "'''\n",
    "from random import randint\n",
    "face = randint(1,6)\n",
    "if face ==1:\n",
    "    result = '唱首歌'\n",
    "elif face ==2:\n",
    "    result = '跳个舞'\n",
    "elif face ==3:\n",
    "    result = '学狗叫'\n",
    "elif face ==4:\n",
    "    result = '做俯卧撑'\n",
    "elif face ==5:\n",
    "    result = '念绕口令'\n",
    "else:\n",
    "    result = '讲冷笑话'\n",
    "print(result)"
   ]
  },
  {
   "cell_type": "code",
   "execution_count": null,
   "metadata": {},
   "outputs": [],
   "source": [
    "'''\n",
    "输入月收入和五险一金计算个人所得税\n",
    "税区间= 薪资-五险一金-基础工资\n",
    "1500:比率0.03 扣除 0\n",
    "4500:比率0.1 扣除 105\n",
    "9000:比率0.2 扣除 555\n",
    "35000:比率0.25 扣除 1005\n",
    "55000:比率0.3 扣除 2755\n",
    "80000:比率0.35 扣除 5505\n",
    ">80000:比率0.45 扣除 13505\n",
    "税 = 税区间*比率 - 扣除\n",
    "'''\n",
    "salary = float(input('本月收入: '))\n",
    "insurance = float(input('五险一金: '))\n",
    "\n",
    "diff = salary-insurance -3500\n",
    "if diff <0:\n",
    "    rate = 0\n",
    "    deduction = 0\n",
    "elif diff < 1500:\n",
    "    rate = 0.03\n",
    "    deduction = 0\n",
    "elif diff < 4500:\n",
    "    rate = 0.1\n",
    "    deduction = 105\n",
    "elif diff < 9000:\n",
    "    rate = 0.2\n",
    "    deduction = 555\n",
    "elif diff < 35000:\n",
    "    rate = 0.25\n",
    "    deduction = 1005\n",
    "elif diff < 55000:\n",
    "    rate = 0.3\n",
    "    deduction = 2755\n",
    "elif diff < 80000:\n",
    "    rate = 0.35\n",
    "    deduction = 5505\n",
    "else:\n",
    "    rate = 0.45\n",
    "    deduction = 13505\n",
    "tax = abs(diff*rate - deduction)\n",
    "print('个人所得税: ￥%.2f元' % tax)\n",
    "print('税后所得: ￥%.2f元' % (diff + 3500 -tax))"
   ]
  },
  {
   "cell_type": "code",
   "execution_count": null,
   "metadata": {},
   "outputs": [],
   "source": [
    "'''\n",
    "判断输入的边长能否构成三角形\n",
    "如果能则计算出三角形的周长和面积\n",
    "'''"
   ]
  }
 ],
 "metadata": {
  "kernelspec": {
   "display_name": "Python 3",
   "language": "python",
   "name": "python3"
  },
  "language_info": {
   "codemirror_mode": {
    "name": "ipython",
    "version": 3
   },
   "file_extension": ".py",
   "mimetype": "text/x-python",
   "name": "python",
   "nbconvert_exporter": "python",
   "pygments_lexer": "ipython3",
   "version": "3.7.4"
  },
  "toc": {
   "base_numbering": 1,
   "nav_menu": {},
   "number_sections": true,
   "sideBar": true,
   "skip_h1_title": false,
   "title_cell": "Table of Contents",
   "title_sidebar": "Contents",
   "toc_cell": false,
   "toc_position": {},
   "toc_section_display": true,
   "toc_window_display": false
  }
 },
 "nbformat": 4,
 "nbformat_minor": 2
}
