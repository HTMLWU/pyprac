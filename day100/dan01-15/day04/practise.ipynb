{
 "cells": [
  {
   "cell_type": "code",
   "execution_count": 10,
   "metadata": {},
   "outputs": [
    {
     "name": "stdout",
     "output_type": "stream",
     "text": [
      "5050\n"
     ]
    }
   ],
   "source": [
    "# 用for循环实现1~100求和/\n",
    "sum = 0\n",
    "for i in range(1,101):\n",
    "#     print(i)\n",
    "    sum +=i\n",
    "print(sum)"
   ]
  },
  {
   "cell_type": "code",
   "execution_count": 12,
   "metadata": {},
   "outputs": [
    {
     "name": "stdout",
     "output_type": "stream",
     "text": [
      "2550\n"
     ]
    }
   ],
   "source": [
    "# 用for循环实现1~100之间的偶数求和\n",
    "sum = 0\n",
    "for i in range(1,101):\n",
    "    if i % 2 ==0:\n",
    "        sum +=i\n",
    "print(sum)"
   ]
  },
  {
   "cell_type": "code",
   "execution_count": 16,
   "metadata": {},
   "outputs": [
    {
     "name": "stdout",
     "output_type": "stream",
     "text": [
      "n的阶乘:7\n",
      "5040\n"
     ]
    }
   ],
   "source": [
    "# 输入非负整数n计算n!\n",
    "num = abs(int(input('n的阶乘:')))\n",
    "res = 1\n",
    "for i in range(1,num+1):\n",
    "    res *= i\n",
    "print(res)"
   ]
  },
  {
   "cell_type": "code",
   "execution_count": 18,
   "metadata": {},
   "outputs": [
    {
     "name": "stdout",
     "output_type": "stream",
     "text": [
      "是否素数:7\n",
      "是素数\n"
     ]
    }
   ],
   "source": [
    "# 输入一个正整数判断它是不是素数\n",
    "from math import sqrt\n",
    "num = int(input('是否素数:'))\n",
    "end = int(sqrt(num))\n",
    "isparse = True\n",
    "for x in range(2,end+1):\n",
    "    if num % x ==0:\n",
    "        isparse = False\n",
    "        break\n",
    "if isparse and num !=1:\n",
    "    print('是素数')\n",
    "else:\n",
    "    print('不是素数')\n",
    "\n",
    "        "
   ]
  },
  {
   "cell_type": "code",
   "execution_count": 28,
   "metadata": {},
   "outputs": [
    {
     "name": "stdout",
     "output_type": "stream",
     "text": [
      "x = 6\n",
      "y = 2\n",
      "2\n",
      "2和6的最大公约数是2\n",
      "2和6的最小公倍数是6\n"
     ]
    }
   ],
   "source": [
    "'''\n",
    "输入两个正整数计算最大公约数和最小公倍数\n",
    "\n",
    "'''\n",
    "x = int(input('x = '))\n",
    "y = int(input('y = '))\n",
    "if x >y:\n",
    "    (x,y) = (y,x)\n",
    "for fec in range(x,0,-1):\n",
    "    if x % fec ==0 and y % fec ==0:\n",
    "        print('%d和%d的最大公约数是%d' % (x, y, fec))\n",
    "        print('%d和%d的最小公倍数是%d' % (x,y,x*y//fec))\n",
    "        break"
   ]
  },
  {
   "cell_type": "code",
   "execution_count": 58,
   "metadata": {},
   "outputs": [
    {
     "name": "stdout",
     "output_type": "stream",
     "text": [
      "个数6\n",
      "*\n",
      "**\n",
      "***\n",
      "****\n",
      "*****\n",
      "******\n",
      "     *\n",
      "    **\n",
      "   ***\n",
      "  ****\n",
      " *****\n",
      "******\n",
      "     *\n",
      "    ***\n",
      "   *****\n",
      "  *******\n",
      " *********\n",
      "***********\n"
     ]
    }
   ],
   "source": [
    "'''\n",
    "打印各种三角形图案\n",
    "*\n",
    "**\n",
    "***\n",
    "****\n",
    "*****\n",
    "    *\n",
    "   **\n",
    "  ***\n",
    " ****\n",
    "*****\n",
    "    *\n",
    "   ***\n",
    "  *****\n",
    " *******\n",
    "*********\n",
    "'''\n",
    "row  = int(input('个数'))\n",
    "# for i in range(row):\n",
    "#     print('*'*(i+1))\n",
    "\n",
    "for i in range(row):\n",
    "    for _ in range(i+1):\n",
    "        print('*',end='')\n",
    "    print()\n",
    "\n",
    "for i in range(row):\n",
    "    for j in range(row):\n",
    "        if j < row -i -1:\n",
    "            print(' ',end='')\n",
    "        else:\n",
    "            print('*',end='')\n",
    "    print()\n",
    "\n",
    "for i in range(row):\n",
    "    for _ in range(row - i - 1):\n",
    "        print(' ',end='')\n",
    "    for _ in range(2 * i + 1):\n",
    "        print('*',end='')\n",
    "    print()\n",
    "    "
   ]
  },
  {
   "cell_type": "code",
   "execution_count": null,
   "metadata": {},
   "outputs": [],
   "source": [
    "# 用while循环实现1~100求和\n",
    "a = 1\n",
    "sum = 0\n",
    "while a<=100:\n",
    "    sum += a\n",
    "    a += 1\n",
    "print(sum)"
   ]
  },
  {
   "cell_type": "code",
   "execution_count": null,
   "metadata": {},
   "outputs": [],
   "source": [
    "# 用while循环实现1~100之间的偶数求和\n",
    "a = 2\n",
    "sum = 0\n",
    "while a<=100:\n",
    "    sum += a\n",
    "    a += 2\n",
    "print(sum)"
   ]
  },
  {
   "cell_type": "code",
   "execution_count": null,
   "metadata": {},
   "outputs": [],
   "source": []
  }
 ],
 "metadata": {
  "kernelspec": {
   "display_name": "Python 3",
   "language": "python",
   "name": "python3"
  },
  "language_info": {
   "codemirror_mode": {
    "name": "ipython",
    "version": 3
   },
   "file_extension": ".py",
   "mimetype": "text/x-python",
   "name": "python",
   "nbconvert_exporter": "python",
   "pygments_lexer": "ipython3",
   "version": "3.7.4"
  },
  "toc": {
   "base_numbering": 1,
   "nav_menu": {},
   "number_sections": true,
   "sideBar": true,
   "skip_h1_title": false,
   "title_cell": "Table of Contents",
   "title_sidebar": "Contents",
   "toc_cell": false,
   "toc_position": {},
   "toc_section_display": true,
   "toc_window_display": false
  }
 },
 "nbformat": 4,
 "nbformat_minor": 2
}
