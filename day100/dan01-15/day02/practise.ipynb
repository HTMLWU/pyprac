{
 "cells": [
  {
   "cell_type": "code",
   "execution_count": 2,
   "metadata": {},
   "outputs": [
    {
     "name": "stdout",
     "output_type": "stream",
     "text": [
      "请输入华氏温度:100\n",
      "100.0华氏度 = 37.8摄氏度\n"
     ]
    }
   ],
   "source": [
    "'''\n",
    "将华氏温度转换为摄氏温度\n",
    "F = 1.8C + 32\n",
    "'''\n",
    "\n",
    "f= float(input('请输入华氏温度:'))\n",
    "c = (f - 32) /1.8\n",
    "print('%.1f华氏度 = %.1f摄氏度'%(f,c))"
   ]
  },
  {
   "cell_type": "code",
   "execution_count": 6,
   "metadata": {},
   "outputs": [
    {
     "name": "stdout",
     "output_type": "stream",
     "text": [
      "请输入半径10\n",
      "周长是62.83185307179586,面积是314.1592653589793\n"
     ]
    }
   ],
   "source": [
    "'''\n",
    "输入半径计算圆的周长和面积\n",
    "'''\n",
    "import math\n",
    "r = float(input('请输入半径'))\n",
    "#pie= 3.14\n",
    "zc = 2*math.pi*r\n",
    "mj = math.pi*r*r\n",
    "print('周长是{},面积是{}'.format(zc,mj))"
   ]
  },
  {
   "cell_type": "code",
   "execution_count": 2,
   "metadata": {},
   "outputs": [
    {
     "name": "stdout",
     "output_type": "stream",
     "text": [
      "输入年份2019\n",
      "False\n"
     ]
    }
   ],
   "source": [
    "'''\n",
    "输入年份 如果是闰年输出True 否则输出False\n",
    "'''\n",
    "\n",
    "year = int(input('输入年份'))\n",
    "istrue = (year % 4 ==0 and year % 100 !=0 or year % 400 ==0)\n",
    "print(istrue)"
   ]
  },
  {
   "cell_type": "code",
   "execution_count": 4,
   "metadata": {},
   "outputs": [
    {
     "name": "stdout",
     "output_type": "stream",
     "text": [
      "a=  9.6\n",
      "flag1 =  True\n",
      "flag2 =  False\n",
      "flag3 =  False\n",
      "flag4 =  True\n",
      "flag5 =  False\n",
      "True\n",
      "False\n"
     ]
    }
   ],
   "source": [
    "'''\n",
    "运算符的使用\n",
    "'''\n",
    "a = 5\n",
    "b = 10\n",
    "c = 3\n",
    "d = 4\n",
    "e = 5\n",
    "a += b\n",
    "a -=c\n",
    "a *= d\n",
    "a /= e\n",
    "\n",
    "print('a= ',a)\n",
    "\n",
    "flag1 = 3 > 2\n",
    "flag2 = 2 < 1\n",
    "\n",
    "flag3 = flag1 and flag2\n",
    "flag4 = flag1 or flag2\n",
    "flag5 = not flag1\n",
    "print(\"flag1 = \", flag1)\n",
    "print(\"flag2 = \", flag2)\n",
    "print(\"flag3 = \", flag3)\n",
    "print(\"flag4 = \", flag4)\n",
    "print(\"flag5 = \", flag5)\n",
    "print(flag1 is True)\n",
    "print(flag2 is not False)"
   ]
  },
  {
   "cell_type": "code",
   "execution_count": 5,
   "metadata": {},
   "outputs": [
    {
     "name": "stdout",
     "output_type": "stream",
     "text": [
      "字符串的长度是: 13\n",
      "单词首字母大写: Hello, World!\n",
      "字符串变大写:  HELLO, WORLD!\n",
      "字符串是不是大写:  False\n",
      "字符串是不是以hello开头:  True\n",
      "字符串是不是以hello结尾:  False\n",
      "字符串是不是以感叹号开头:  False\n",
      "字符串是不是一感叹号结尾:  True\n",
      "- 骆昊 - 骆昊\n"
     ]
    }
   ],
   "source": [
    "'''\n",
    "字符串常用操作\n",
    "'''\n",
    "str1 = 'hello, world!'\n",
    "print('字符串的长度是:', len(str1))\n",
    "print('单词首字母大写:', str1.title())\n",
    "print('字符串变大写: ', str1.upper())\n",
    "print('字符串是不是大写: ', str1.isupper())\n",
    "print('字符串是不是以hello开头: ', str1.startswith('hello'))\n",
    "print('字符串是不是以hello结尾: ', str1.endswith('hello'))\n",
    "print('字符串是不是以感叹号开头: ', str1.startswith('!'))\n",
    "print('字符串是不是一感叹号结尾: ', str1.endswith('!'))\n",
    "str2 = '- \\u9a86\\u660a'\n",
    "str3 = str2.title() +' ' + str2.lower()\n",
    "print(str3)\n"
   ]
  },
  {
   "cell_type": "code",
   "execution_count": 7,
   "metadata": {},
   "outputs": [
    {
     "name": "stdout",
     "output_type": "stream",
     "text": [
      "444\n",
      "198\n",
      "39483\n",
      "2.6097560975609757\n",
      "2\n",
      "0\n",
      "75\n",
      "199580904170858944588683464608694075062943107082809027605498347841561605181074274426665986623764972439807786764739130193391688887305693295698132008415537889753720415793877902074665765736230030622222862498385818118244547668141388643750880896837470534556730014314212951333550122949806119583030226121714710874561\n"
     ]
    }
   ],
   "source": [
    "'''\n",
    "使用变量保存数据并进行操作\n",
    "'''\n",
    "a = 321\n",
    "b = 123\n",
    "print(a + b)\n",
    "print(a - b)\n",
    "print(a * b)\n",
    "print(a / b)\n",
    "print(a // b)\n",
    "print(15 % 5)\n",
    "print(a % b)\n",
    "print(a ** b)\n"
   ]
  },
  {
   "cell_type": "code",
   "execution_count": 8,
   "metadata": {},
   "outputs": [
    {
     "name": "stdout",
     "output_type": "stream",
     "text": [
      "a = 100\n",
      "b = 4\n",
      "104\n",
      "96\n",
      "400\n",
      "25.0\n",
      "25\n",
      "0\n",
      "100000000\n"
     ]
    }
   ],
   "source": [
    "'''\n",
    "将input函数输入的数据保存在变量中并进行操作\n",
    "'''\n",
    "a = int(input('a = '))\n",
    "b = int(input('b = '))\n",
    "print(a + b)\n",
    "print(a - b)\n",
    "print(a * b)\n",
    "print(a / b)\n",
    "print(a // b)\n",
    "print(a % b)\n",
    "print(a ** b)\n"
   ]
  },
  {
   "cell_type": "code",
   "execution_count": 9,
   "metadata": {},
   "outputs": [
    {
     "name": "stdout",
     "output_type": "stream",
     "text": [
      "a = 3\n",
      "b = 5\n",
      "3 + 5 = 8\n",
      "3 - 5 = -2\n",
      "3 * 5 = 15\n",
      "3 / 5 = 0.600000\n",
      "3 // 5 = 0\n",
      "3 % 5 = 3\n",
      "3 ** 5 = 243\n"
     ]
    }
   ],
   "source": [
    "'''\n",
    "格式化输出\n",
    "'''\n",
    "a = int(input('a = '))\n",
    "b = int(input('b = '))\n",
    "print('%d + %d = %d' % (a, b, a + b))\n",
    "print('%d - %d = %d' % (a, b, a - b))\n",
    "print('%d * %d = %d' % (a, b, a * b))\n",
    "print('%d / %d = %f' % (a, b, a / b))\n",
    "print('%d // %d = %d' % (a, b, a // b))\n",
    "print('%d %% %d = %d' % (a, b, a % b))\n",
    "print('%d ** %d = %d' % (a, b, a ** b))\n"
   ]
  },
  {
   "cell_type": "code",
   "execution_count": 10,
   "metadata": {},
   "outputs": [
    {
     "name": "stdout",
     "output_type": "stream",
     "text": [
      "<class 'int'>\n",
      "<class 'int'>\n",
      "<class 'float'>\n",
      "<class 'complex'>\n",
      "<class 'str'>\n",
      "<class 'str'>\n",
      "<class 'bool'>\n"
     ]
    }
   ],
   "source": [
    "# 检查变量的类型\n",
    "a = 100\n",
    "b = 1000000000000000000\n",
    "c = 12.345\n",
    "d = 1 + 5j\n",
    "e = 'A'\n",
    "f = 'hello, world'\n",
    "g = True\n",
    "print(type(a))\n",
    "print(type(b))\n",
    "print(type(c))\n",
    "print(type(d))\n",
    "print(type(e))\n",
    "print(type(f))\n",
    "print(type(g))"
   ]
  },
  {
   "cell_type": "code",
   "execution_count": 11,
   "metadata": {},
   "outputs": [
    {
     "name": "stdout",
     "output_type": "stream",
     "text": [
      "100\n",
      "<class 'int'>\n",
      "100\n",
      "<class 'str'>\n",
      "12.345\n",
      "<class 'float'>\n",
      "12.345\n",
      "<class 'str'>\n",
      "123\n",
      "<class 'str'>\n",
      "123\n",
      "<class 'int'>\n",
      "123.456\n",
      "<class 'str'>\n",
      "123.456\n",
      "<class 'float'>\n",
      "False\n",
      "<class 'bool'>\n",
      "False\n",
      "<class 'str'>\n",
      "hello\n",
      "<class 'str'>\n",
      "True\n",
      "<class 'bool'>\n"
     ]
    }
   ],
   "source": [
    "# 类型转换\n",
    "a = 100\n",
    "b = str(a)\n",
    "c = 12.345\n",
    "d = str(c)\n",
    "e = '123'\n",
    "f = int(e)\n",
    "g = '123.456'\n",
    "h = float(g)\n",
    "i = False\n",
    "j = str(i)\n",
    "k = 'hello'\n",
    "m = bool(k)\n",
    "print(a)\n",
    "print(type(a))\n",
    "print(b)\n",
    "print(type(b))\n",
    "print(c)\n",
    "print(type(c))\n",
    "print(d)\n",
    "print(type(d))\n",
    "print(e)\n",
    "print(type(e))\n",
    "print(f)\n",
    "print(type(f))\n",
    "print(g)\n",
    "print(type(g))\n",
    "print(h)\n",
    "print(type(h))\n",
    "print(i)\n",
    "print(type(i))\n",
    "print(j)\n",
    "print(type(j))\n",
    "print(k)\n",
    "print(type(k))\n",
    "print(m)\n",
    "print(type(m))"
   ]
  },
  {
   "cell_type": "code",
   "execution_count": null,
   "metadata": {},
   "outputs": [],
   "source": []
  }
 ],
 "metadata": {
  "kernelspec": {
   "display_name": "Python 3",
   "language": "python",
   "name": "python3"
  },
  "language_info": {
   "codemirror_mode": {
    "name": "ipython",
    "version": 3
   },
   "file_extension": ".py",
   "mimetype": "text/x-python",
   "name": "python",
   "nbconvert_exporter": "python",
   "pygments_lexer": "ipython3",
   "version": "3.7.4"
  },
  "toc": {
   "base_numbering": 1,
   "nav_menu": {},
   "number_sections": true,
   "sideBar": true,
   "skip_h1_title": false,
   "title_cell": "Table of Contents",
   "title_sidebar": "Contents",
   "toc_cell": false,
   "toc_position": {},
   "toc_section_display": true,
   "toc_window_display": false
  }
 },
 "nbformat": 4,
 "nbformat_minor": 2
}
