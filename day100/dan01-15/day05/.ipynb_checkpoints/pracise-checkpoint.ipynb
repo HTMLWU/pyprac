{
 "cells": [
  {
   "cell_type": "code",
   "execution_count": 4,
   "metadata": {},
   "outputs": [
    {
     "name": "stdout",
     "output_type": "stream",
     "text": [
      "0只公鸡,25只母鸡,75只小鸡\n",
      "4只公鸡,18只母鸡,78只小鸡\n",
      "8只公鸡,11只母鸡,81只小鸡\n",
      "12只公鸡,4只母鸡,84只小鸡\n"
     ]
    }
   ],
   "source": [
    "'''\n",
    "求解《百钱百鸡》问题\n",
    "1只公鸡5元 1只母鸡3元 3只小鸡1元 用100元买100只鸡\n",
    "问公鸡 母鸡 小鸡各有多少只\n",
    "'''\n",
    "for x in range(0,20):\n",
    "    for y in range(0,33):\n",
    "        z = 100 - x -y\n",
    "        if 5*x + 3*y + z/3 ==100:\n",
    "            print('%d只公鸡,%d只母鸡,%d只小鸡' % (x,y,z))\n"
   ]
  },
  {
   "cell_type": "code",
   "execution_count": 6,
   "metadata": {},
   "outputs": [],
   "source": [
    "'''\n",
    "Craps赌博游戏\n",
    "玩家摇两颗色子 如果第一次摇出7点或11点 玩家胜\n",
    "如果摇出2点 3点 12点 庄家胜 其他情况游戏继续\n",
    "玩家再次要色子 如果摇出7点 庄家胜\n",
    "如果摇出第一次摇的点数 玩家胜\n",
    "否则游戏继续 玩家继续摇色子\n",
    "玩家进入游戏时有1000元的赌注 全部输光游戏结束\n",
    "'''\n",
    "\n",
    "from random import randint\n",
    "\n",
    "money = 1000\n",
    "\n",
    "while money <1000:\n",
    "    pass\n"
   ]
  },
  {
   "cell_type": "code",
   "execution_count": 11,
   "metadata": {},
   "outputs": [
    {
     "name": "stdout",
     "output_type": "stream",
     "text": [
      "1 1 2 3 5 8 13 21 34 55 89 144 233 377 610 987 1597 2584 4181 6765 "
     ]
    }
   ],
   "source": [
    "'''\n",
    "输出斐波那契数列的前20个数\n",
    "1 1 2 3 5 8 13 21 ...\n",
    "'''\n",
    "\n",
    "a = 0 \n",
    "b = 1 \n",
    "for _ in range(20):\n",
    "    a,b = b,a+b\n",
    "    print(a,end=' ')\n"
   ]
  },
  {
   "cell_type": "code",
   "execution_count": 14,
   "metadata": {},
   "outputs": [
    {
     "name": "stdout",
     "output_type": "stream",
     "text": [
      "猜数字:50\n",
      "小一点\n",
      "猜数字:25\n",
      "大一点\n",
      "猜数字:30\n",
      "大一点\n",
      "猜数字:35\n",
      "大一点\n",
      "猜数字:40\n",
      "大一点\n",
      "猜数字:45\n",
      "猜对了,45\n"
     ]
    }
   ],
   "source": [
    "'''\n",
    "猜数字游戏\n",
    "计算机出一个1~100之间的随机数由人来猜\n",
    "计算机根据人猜的数字分别给出提示大一点/小一点/猜对了\n",
    "'''\n",
    "\n",
    "import random\n",
    "rob = random.randint(1,100)\n",
    "times = 1\n",
    "while times <7:\n",
    "    answer= int(input('猜数字:'))\n",
    "    if rob > answer:\n",
    "        print('大一点')\n",
    "        times +=1\n",
    "    elif rob < answer:\n",
    "        print('小一点')\n",
    "        times +=1\n",
    "    else:\n",
    "        print('猜对了,%d' % answer)\n",
    "        break;\n",
    "if times >7:\n",
    "    print('你已经猜了7次还没对')\n"
   ]
  },
  {
   "cell_type": "code",
   "execution_count": 20,
   "metadata": {},
   "outputs": [
    {
     "name": "stdout",
     "output_type": "stream",
     "text": [
      "3\n"
     ]
    }
   ],
   "source": [
    "a = 123\n",
    "print(str(a)[2])"
   ]
  },
  {
   "cell_type": "code",
   "execution_count": 33,
   "metadata": {},
   "outputs": [],
   "source": [
    "'''\n",
    "找出100~999之间的所有水仙花数\n",
    "水仙花数是各位立方和等于这个数本身的数\n",
    "如: 153 = 1**3 + 5**3 + 3**3\n",
    "'''\n",
    "\n",
    "for num in range(100,999):\n",
    "    low = num % 10 \n",
    "    mid = num //10 %10\n",
    "    high = num // 100\n",
    "    if num == low **3 + mid **3 + low **3: \n",
    "        print(num)"
   ]
  },
  {
   "cell_type": "code",
   "execution_count": null,
   "metadata": {},
   "outputs": [],
   "source": []
  },
  {
   "cell_type": "code",
   "execution_count": null,
   "metadata": {},
   "outputs": [],
   "source": []
  }
 ],
 "metadata": {
  "kernelspec": {
   "display_name": "Python 3",
   "language": "python",
   "name": "python3"
  },
  "language_info": {
   "codemirror_mode": {
    "name": "ipython",
    "version": 3
   },
   "file_extension": ".py",
   "mimetype": "text/x-python",
   "name": "python",
   "nbconvert_exporter": "python",
   "pygments_lexer": "ipython3",
   "version": "3.7.4"
  },
  "toc": {
   "base_numbering": 1,
   "nav_menu": {},
   "number_sections": true,
   "sideBar": true,
   "skip_h1_title": false,
   "title_cell": "Table of Contents",
   "title_sidebar": "Contents",
   "toc_cell": false,
   "toc_position": {},
   "toc_section_display": true,
   "toc_window_display": false
  }
 },
 "nbformat": 4,
 "nbformat_minor": 2
}
