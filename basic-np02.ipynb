{
 "cells": [
  {
   "cell_type": "markdown",
   "metadata": {},
   "source": [
    "# 用于数组的文件输入输出"
   ]
  },
  {
   "cell_type": "code",
   "execution_count": 2,
   "metadata": {},
   "outputs": [],
   "source": [
    "# np.save和np.load是读写磁盘数组数据的两个主要函数\n",
    "import numpy as np\n",
    "arr =np.arange(10)\n",
    "np.save('some_array',arr)"
   ]
  },
  {
   "cell_type": "code",
   "execution_count": 4,
   "metadata": {},
   "outputs": [
    {
     "name": "stdout",
     "output_type": "stream",
     "text": [
      "[0 1 2 3 4 5 6 7 8 9]\n"
     ]
    }
   ],
   "source": [
    "print(np.load('some_array.npy'))"
   ]
  },
  {
   "cell_type": "code",
   "execution_count": 5,
   "metadata": {},
   "outputs": [
    {
     "name": "stdout",
     "output_type": "stream",
     "text": [
      "[0 1 2 3 4 5 6 7 8 9]\n"
     ]
    }
   ],
   "source": [
    "# 通过np.savez可以将多个数组保存到一个未压缩文件中，将数组以关键字参数的形式传入即可\n",
    "np.savez('array_archive.npz',a=arr,b=arr)\n",
    "arch = np.load('array_archive.npz')\n",
    "print(arch['a'])"
   ]
  },
  {
   "cell_type": "code",
   "execution_count": 6,
   "metadata": {},
   "outputs": [],
   "source": [
    "# 如果要将数据压缩，可以使用numpy.savez_compressed\n",
    "np.savez_compressed('array_archive.npz',a=arr,b=arr)"
   ]
  },
  {
   "cell_type": "markdown",
   "metadata": {},
   "source": [
    "# 线性代数"
   ]
  },
  {
   "cell_type": "code",
   "execution_count": 7,
   "metadata": {},
   "outputs": [
    {
     "name": "stdout",
     "output_type": "stream",
     "text": [
      "[[1. 2. 3.]\n",
      " [4. 5. 6.]]\n",
      "[[ 6. 23.]\n",
      " [-1.  7.]\n",
      " [ 8.  9.]]\n",
      "[[ 28.  64.]\n",
      " [ 67. 181.]]\n"
     ]
    }
   ],
   "source": [
    "# 线性代数（如矩阵乘法、矩阵分解、行列式以及其他方阵数学等）是任何数组库的重要组成部分\n",
    "# NumPy提供了一个用于矩阵乘法的dot函数\n",
    "\n",
    "x = np.array([[1., 2., 3.], [4., 5., 6.]])\n",
    "y = np.array([[6., 23.], [-1, 7], [8, 9]])\n",
    "print(x)\n",
    "print(y)\n",
    "print(x.dot(y))\n"
   ]
  },
  {
   "cell_type": "code",
   "execution_count": 9,
   "metadata": {},
   "outputs": [
    {
     "name": "stdout",
     "output_type": "stream",
     "text": [
      "[[ 28.  64.]\n",
      " [ 67. 181.]]\n"
     ]
    }
   ],
   "source": [
    "# x.dot(y)等价于np.dot(x, y)\n",
    "print(np.dot(x,y))"
   ]
  },
  {
   "cell_type": "code",
   "execution_count": 11,
   "metadata": {},
   "outputs": [
    {
     "name": "stdout",
     "output_type": "stream",
     "text": [
      "[1. 1. 1.]\n",
      "[ 6. 15.]\n"
     ]
    }
   ],
   "source": [
    "# 一个二维数组跟一个大小合适的一维数组的矩阵点积运算之后将会得到一个一维数组\n",
    "print(np.ones(3))\n",
    "print(np.dot(x,np.ones(3)))"
   ]
  },
  {
   "cell_type": "code",
   "execution_count": 12,
   "metadata": {},
   "outputs": [
    {
     "name": "stdout",
     "output_type": "stream",
     "text": [
      "[ 6. 15.]\n"
     ]
    }
   ],
   "source": [
    "# @符（类似Python 3.5）也可以用作中缀运算符，进行矩阵乘法\n",
    "\n",
    "print(x @ np.ones(3))"
   ]
  },
  {
   "cell_type": "code",
   "execution_count": 20,
   "metadata": {},
   "outputs": [
    {
     "name": "stdout",
     "output_type": "stream",
     "text": [
      "[[ 3.98166365  2.20499246 -1.30523489  0.14924888  1.50054208]\n",
      " [ 2.20499246  4.51840954 -0.57987924  0.84702683  2.17684301]\n",
      " [-1.30523489 -0.57987924  2.73586837 -0.19215953 -1.10812459]\n",
      " [ 0.14924888  0.84702683 -0.19215953  0.42857668 -0.29351712]\n",
      " [ 1.50054208  2.17684301 -1.10812459 -0.29351712  3.50657966]]\n",
      "[[   37.89893014  -136.48247004    63.14591088   366.44747268\n",
      "    119.13720963]\n",
      " [ -136.48247004   495.9143729   -229.08590771 -1332.08247642\n",
      "   -433.34957081]\n",
      " [   63.14591088  -229.08590771   106.31182307   615.62696443\n",
      "    200.31906572]\n",
      " [  366.44747268 -1332.08247642   615.62696443  3580.90398869\n",
      "   1164.41461067]\n",
      " [  119.13720963  -433.34957081   200.31906572  1164.41461067\n",
      "    379.09239944]]\n",
      "[[ 1.00000000e+00  1.82260959e-13 -1.30443107e-13  8.82570338e-14\n",
      "  -8.22383093e-16]\n",
      " [ 3.33250681e-14  1.00000000e+00 -5.07068952e-15  6.49174700e-13\n",
      "   1.84146503e-13]\n",
      " [-4.11057412e-14 -3.27482419e-14  1.00000000e+00 -3.82477530e-13\n",
      "  -2.42282238e-14]\n",
      " [-8.29032100e-15  2.18963513e-15 -1.41696123e-14  1.00000000e+00\n",
      "  -2.78856401e-14]\n",
      " [ 2.05587153e-14 -6.99974781e-14 -3.63142788e-14  2.53990533e-14\n",
      "   1.00000000e+00]]\n",
      "[[-4.96922298e+00 -4.60682452e+00  2.36215074e+00 -4.70151922e-01\n",
      "  -3.50938214e+00]\n",
      " [ 0.00000000e+00 -3.13807971e+00 -3.89536981e-01 -5.81853903e-01\n",
      "  -1.59482230e+00]\n",
      " [ 0.00000000e+00  0.00000000e+00 -2.24905404e+00  3.77433155e-02\n",
      "   1.07308524e+00]\n",
      " [ 0.00000000e+00  0.00000000e+00  0.00000000e+00 -6.96752378e-01\n",
      "   2.14236590e+00]\n",
      " [ 0.00000000e+00  0.00000000e+00  0.00000000e+00  0.00000000e+00\n",
      "   7.57731093e-04]]\n"
     ]
    }
   ],
   "source": [
    "from numpy.linalg import inv,qr\n",
    "\n",
    "X = np.random.randn(5,5)\n",
    "mat = X.T.dot(X) #表达式X.T.dot(X)计算X和它的转置X.T的点积\n",
    "print(mat)\n",
    "print(inv(mat))\n",
    "print(mat.dot(inv(mat)))\n",
    "\n",
    "q, r = qr(mat)\n",
    "print(r)"
   ]
  },
  {
   "cell_type": "code",
   "execution_count": null,
   "metadata": {},
   "outputs": [],
   "source": []
  },
  {
   "cell_type": "markdown",
   "metadata": {},
   "source": [
    "# 伪随机数生成"
   ]
  },
  {
   "cell_type": "code",
   "execution_count": 21,
   "metadata": {},
   "outputs": [
    {
     "name": "stdout",
     "output_type": "stream",
     "text": [
      "[[ 0.06026147  1.49517971 -1.89941785 -1.35904359]\n",
      " [-1.12722798 -2.28771549 -0.47972575  0.57463609]\n",
      " [ 0.97727341 -2.27354294 -0.16526382  0.25585855]\n",
      " [-0.12239895  1.97272424 -0.63019161  0.48107032]]\n"
     ]
    }
   ],
   "source": [
    "# numpy.random模块对Python内置的random进行了补充\n",
    "samples = np.random.normal(size=(4,4))\n",
    "print(samples)"
   ]
  },
  {
   "cell_type": "code",
   "execution_count": 22,
   "metadata": {},
   "outputs": [
    {
     "name": "stdout",
     "output_type": "stream",
     "text": [
      "1.16 s ± 102 ms per loop (mean ± std. dev. of 7 runs, 1 loop each)\n",
      "38.2 ms ± 1.05 ms per loop (mean ± std. dev. of 7 runs, 10 loops each)\n"
     ]
    }
   ],
   "source": [
    "from random import normalvariate\n",
    "\n",
    "N = 1000000\n",
    "%timeit samples = [normalvariate(0, 1) for _ in range(N)]\n",
    "%timeit np.random.normal(size=N)"
   ]
  },
  {
   "cell_type": "code",
   "execution_count": 23,
   "metadata": {
    "scrolled": true
   },
   "outputs": [
    {
     "name": "stdout",
     "output_type": "stream",
     "text": [
      "[ 0.47143516 -1.19097569  1.43270697 -0.3126519  -0.72058873  0.88716294\n",
      "  0.85958841 -0.6365235   0.01569637 -2.24268495]\n"
     ]
    }
   ],
   "source": [
    "rng = np.random.RandomState(1234)\n",
    "print(rng.randn(10))"
   ]
  },
  {
   "cell_type": "markdown",
   "metadata": {},
   "source": [
    "# 随机漫步"
   ]
  },
  {
   "cell_type": "code",
   "execution_count": 26,
   "metadata": {},
   "outputs": [],
   "source": [
    "'''\n",
    "我们通过模拟随机漫步来说明如何运用数组运算。先来看一个简单的随机漫步的例子：从0开始，步长1和－1出现的概率相等。\n",
    "下面是一个通过内置的random模块以纯Python的方式实现1000步的随机漫步\n",
    "'''\n",
    "import random\n",
    "import matplotlib.pyplot as plt\n",
    "\n",
    "position = 0\n",
    "walk = [position]\n",
    "steps = 1000\n",
    "\n",
    "for i in range(steps):\n",
    "    step = 1 if random.randint(0,1) else -1\n",
    "    position += step\n",
    "    walk.append(position)"
   ]
  },
  {
   "cell_type": "code",
   "execution_count": 27,
   "metadata": {},
   "outputs": [
    {
     "data": {
      "text/plain": [
       "[<matplotlib.lines.Line2D at 0x1610dfc4248>]"
      ]
     },
     "execution_count": 27,
     "metadata": {},
     "output_type": "execute_result"
    },
    {
     "data": {
      "image/png": "[encoded data removed]",
      "text/plain": [
       "<Figure size 432x288 with 1 Axes>"
      ]
     },
     "metadata": {
      "needs_background": "light"
     },
     "output_type": "display_data"
    }
   ],
   "source": [
    "plt.plot(walk[:100])"
   ]
  },
  {
   "cell_type": "code",
   "execution_count": 28,
   "metadata": {},
   "outputs": [
    {
     "name": "stdout",
     "output_type": "stream",
     "text": [
      "-9\n",
      "35\n"
     ]
    }
   ],
   "source": [
    "nsteps = 1000\n",
    "draws = np.random.randint(0,2,size=nsteps)\n",
    "steps = np.where(draws>0,1,-1)\n",
    "walk = steps.cumsum()\n",
    "print(walk.min())\n",
    "print(walk.max())"
   ]
  },
  {
   "cell_type": "code",
   "execution_count": null,
   "metadata": {},
   "outputs": [],
   "source": []
  }
 ],
 "metadata": {
  "kernelspec": {
   "display_name": "Python 3",
   "language": "python",
   "name": "python3"
  },
  "language_info": {
   "codemirror_mode": {
    "name": "ipython",
    "version": 3
   },
   "file_extension": ".py",
   "mimetype": "text/x-python",
   "name": "python",
   "nbconvert_exporter": "python",
   "pygments_lexer": "ipython3",
   "version": "3.7.4"
  },
  "toc": {
   "base_numbering": 1,
   "nav_menu": {},
   "number_sections": true,
   "sideBar": true,
   "skip_h1_title": false,
   "title_cell": "Table of Contents",
   "title_sidebar": "Contents",
   "toc_cell": false,
   "toc_position": {},
   "toc_section_display": true,
   "toc_window_display": false
  }
 },
 "nbformat": 4,
 "nbformat_minor": 2
}
