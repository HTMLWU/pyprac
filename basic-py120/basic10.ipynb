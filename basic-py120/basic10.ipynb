{
 "cells": [
  {
   "cell_type": "code",
   "execution_count": 6,
   "metadata": {},
   "outputs": [
    {
     "name": "stdout",
     "output_type": "stream",
     "text": [
      "hello world!\n",
      "OK\n",
      "yes\n",
      "7\n"
     ]
    }
   ],
   "source": [
    "# 01-Hello World\n",
    "print('hello world!')\n",
    "\n",
    "if 3 > 0:\n",
    "    print('OK')\n",
    "    print('yes')\n",
    "\n",
    "x = 3; y = 4   # 不推荐，还是应该写成两行\n",
    "print(x + y)"
   ]
  },
  {
   "cell_type": "code",
   "execution_count": 7,
   "metadata": {},
   "outputs": [
    {
     "name": "stdout",
     "output_type": "stream",
     "text": [
      "hello world!\n",
      "hello world!\n",
      "helloworld!\n",
      "hello***world!\n",
      "##################################################\n",
      "how are you?"
     ]
    }
   ],
   "source": [
    "# 02-print\n",
    "print('hello world!')\n",
    "print('hello','world!') #逗号自动添加默认的分隔符:空格\n",
    "print('hello'+'world!') #加号表示拼接\n",
    "print('hello','world!',sep='***') #单词间用***分隔\n",
    "print('#' * 50) # * 号表示重复50遍\n",
    "print('how are you?',end='') # m默认print会打印回车,end=''表示不要回车\n"
   ]
  },
  {
   "cell_type": "code",
   "execution_count": 9,
   "metadata": {},
   "outputs": [
    {
     "name": "stdout",
     "output_type": "stream",
     "text": [
      "2.5\n",
      "2\n",
      "1\n",
      "125\n",
      "True\n",
      "False\n",
      "True\n",
      "True\n",
      "False\n"
     ]
    }
   ],
   "source": [
    "# 03-基本运算\n",
    "# 运算符可以分为：算术运算符、比较运算符和逻辑运算符。优先级是：算术运算符>比较运算符>逻辑运算符。最好使用括号，增加了代码的可读性。\n",
    "print(5 /2) \n",
    "print(5//2) # 丢弃余数，只保留商\n",
    "print(5%2) # 求余数\n",
    "print(5**3) # 5的3次方\n",
    "print(5>3)\n",
    "print(3>5)\n",
    "print(20>10>5)\n",
    "print(20>10 and 10>5)\n",
    "print(not 20>10)\n",
    "\n"
   ]
  },
  {
   "cell_type": "code",
   "execution_count": 11,
   "metadata": {},
   "outputs": [
    {
     "name": "stdout",
     "output_type": "stream",
     "text": [
      "请输入数字: 100\n",
      "100\n",
      "<class 'str'>\n",
      "110\n",
      "10010\n"
     ]
    }
   ],
   "source": [
    "# 04-input\n",
    "number = input('请输入数字: ') # input 用于获取键盘输入\n",
    "print(number)\n",
    "print(type(number)) # input获得的数据是字符型\n",
    "# print(number + 10)  # 报错，不能把字符和数字做运算\n",
    "print(int(number) + 10) # int可将字符串10转换成数字10\n",
    "print(number + str(10)) # str将10转换为字符串后实现字符串拼接\n",
    "\n"
   ]
  },
  {
   "cell_type": "code",
   "execution_count": 14,
   "metadata": {},
   "outputs": [
    {
     "name": "stdout",
     "output_type": "stream",
     "text": [
      "username:ava\n",
      "welcom ava\n",
      "welcom ava\n"
     ]
    }
   ],
   "source": [
    "# 05-输入输出基础练习\n",
    "username = input('username:')\n",
    "print('welcom',username) # print各项间默认以空格作为分隔符\n",
    "print('welcom '+ username) # 注意引号内最后的空格"
   ]
  },
  {
   "cell_type": "code",
   "execution_count": 16,
   "metadata": {},
   "outputs": [
    {
     "name": "stdout",
     "output_type": "stream",
     "text": [
      "\n",
      "hello\n",
      "world\n",
      "adcd\n",
      "\n",
      "6\n",
      "p\n",
      "p\n",
      "n\n",
      "th\n",
      "thon\n",
      "py\n",
      "python\n",
      "pto\n",
      "yhn\n",
      "nohtyp\n",
      "python is good\n",
      "pythonpythonpython\n",
      "True\n",
      "True\n",
      "False\n",
      "True\n",
      "tom's pet is a cat tom's pet is a cat tom said:\"hello,world!\" tom said: \"hello world!\"\n"
     ]
    }
   ],
   "source": [
    "# 06-字符串使用基础\n",
    "# python中，单双引号没有区别，表示一样的含义\n",
    "sentence = 'tom\\'s pet is a cat'  # 单引号中间还有单引号，可以转义\n",
    "sentence2 = \"tom's pet is a cat\" #双引号\n",
    "sentence3 = \"tom said:\\\"hello,world!\\\"\"\n",
    "sentence4 = 'tom said: \"hello world!\"'\n",
    "# 三个连续的单引号或双引号，可以保存输入格式，允许输入多行字符串\n",
    "word = \"\"\"\n",
    "hello\n",
    "world\n",
    "adcd\n",
    "\"\"\"\n",
    "print(word)\n",
    "\n",
    "py_str = 'python'\n",
    "print(len(py_str)) # 取长度\n",
    "print(py_str[0])\n",
    "print('python'[0])\n",
    "print(py_str[-1]) # 最后一个字符\n",
    "# py_str[6]  # 错误，下标超出范围\n",
    "print(py_str[2:4]) # 切片，起始下标包含，结束下标不包含\n",
    "print(py_str[2:]) # 从下标为2的字符取到结尾\n",
    "print(py_str[:2]) # 从开头取到下标是2之前的字符\n",
    "print(py_str[:]) # 取全部\n",
    "print(py_str[::2]) # 步长值为2，默认是1\n",
    "print(py_str[1::2]) # 取出yhn\n",
    "print(py_str[::-1]) # 步长为负，表示自右向左取\n",
    "print(py_str + ' is good')  # 简单的拼接到一起\n",
    "print(py_str * 3) # 把字符串重复3遍\n",
    "\n",
    "print('t' in py_str )\n",
    "print('th' in py_str)\n",
    "print('to' in py_str)\n",
    "print('to' not in py_str)\n",
    "print(sentence,sentence2,sentence3,sentence4)\n"
   ]
  },
  {
   "cell_type": "code",
   "execution_count": 18,
   "metadata": {},
   "outputs": [
    {
     "name": "stdout",
     "output_type": "stream",
     "text": [
      "6\n",
      "[1, 2, 3]\n",
      "3\n",
      "3\n",
      "i\n",
      "['bob', 'alice']\n",
      "True\n",
      "False\n",
      "True\n",
      "[10, 20, 30, 'bob', 'alice', 100]\n",
      "[10, 20, 30, 'bob', 'alice', 100, 200]\n"
     ]
    }
   ],
   "source": [
    "# 07-列表基础\n",
    "# 列表也是序列对象，但它是容器类型，列表中可以包含各种数据\n",
    "alist = [10, 20, 30, 'bob', 'alice', [1,2,3]]\n",
    "print(len(alist))\n",
    "print(alist[-1]) # 取出最后一项\n",
    "print(alist[-1][-1]) # 因为最后一项是列表，列表还可以继续取下标\n",
    "print([1,2,3][-1]) # [1,2,3]是列表，[-1]表示列表最后一项\n",
    "print(alist[-2][2]) # 列表倒数第2项是字符串，再取出字符下标为2的字符\n",
    "print(alist[3:5]) # [bob, alice]\n",
    "print(10 in alist)\n",
    "print('o' in alist)\n",
    "print(100 not in alist)\n",
    "alist[-1] = 100 # 修改最后一项的值\n",
    "print(alist)\n",
    "alist.append(200) # 向**列表中追加一项\n",
    "print(alist)\n"
   ]
  },
  {
   "cell_type": "code",
   "execution_count": 19,
   "metadata": {},
   "outputs": [
    {
     "name": "stdout",
     "output_type": "stream",
     "text": [
      "6\n",
      "True\n",
      "30\n",
      "('bob', 'alice')\n"
     ]
    }
   ],
   "source": [
    "# 08-元组基础\n",
    "# 组与列表基本上是一样的，只是元组不可变，列表可变\n",
    "atuple = (10, 20, 30, 'bob', 'alice', [1,2,3])\n",
    "print(len(atuple))\n",
    "print(10 in atuple)\n",
    "print(atuple[2])\n",
    "print(atuple[3:5])\n",
    "# atuple[-1] = 100  # 错误，元组是不可变的"
   ]
  },
  {
   "cell_type": "code",
   "execution_count": null,
   "metadata": {},
   "outputs": [],
   "source": [
    "# 09-字典基础\n",
    "# 字典是key-value(键－值）对形式的，没有顺序，通过键取出值\n",
    "adict = {'name':'bob','age':23}\n",
    "print(len(adict))\n",
    "print('bob' in adict)\n",
    "print('name' in adict)\n",
    "adict['email'] = 'abccc@163.com' # 字典中没有key，则添加新项目\n",
    "adict['age'] = 30  # 字典中已有key，修改对应的value"
   ]
  },
  {
   "cell_type": "code",
   "execution_count": null,
   "metadata": {},
   "outputs": [],
   "source": [
    "# 10-基本判断\n",
    "'''\n",
    "单个的数据也可作为判断条件。\n",
    "任何值为0的数字、空对象都是False，任何非0数字、非空对象都是True\n",
    "'''\n",
    "\n",
    "if 3>0:\n",
    "    print('ok')\n",
    "    print('yes')\n",
    "    \n",
    "if 10 in [10,20,30]:\n",
    "    print('ok')\n",
    "    \n",
    "if -0.0:\n",
    "    print('yes') # 任何值为0的数字都是False\n",
    "    \n",
    "if [1,2]:\n",
    "    print('ok') # 非空对象都是True\n",
    "    \n",
    "if ' ':\n",
    "    print('ok') # 空格字符也是字符，条件为True\n",
    "    "
   ]
  }
 ],
 "metadata": {
  "kernelspec": {
   "display_name": "Python 3",
   "language": "python",
   "name": "python3"
  },
  "language_info": {
   "codemirror_mode": {
    "name": "ipython",
    "version": 3
   },
   "file_extension": ".py",
   "mimetype": "text/x-python",
   "name": "python",
   "nbconvert_exporter": "python",
   "pygments_lexer": "ipython3",
   "version": "3.7.4"
  },
  "toc": {
   "base_numbering": 1,
   "nav_menu": {},
   "number_sections": true,
   "sideBar": true,
   "skip_h1_title": false,
   "title_cell": "Table of Contents",
   "title_sidebar": "Contents",
   "toc_cell": false,
   "toc_position": {},
   "toc_section_display": true,
   "toc_window_display": false
  }
 },
 "nbformat": 4,
 "nbformat_minor": 2
}
